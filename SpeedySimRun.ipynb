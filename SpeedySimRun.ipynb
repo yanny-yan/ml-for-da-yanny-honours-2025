{
 "cells": [
  {
   "cell_type": "code",
   "execution_count": 1,
   "id": "d7e602fd-035b-4522-9f39-b3e251170d7a",
   "metadata": {},
   "outputs": [],
   "source": [
    "# Add variable outputs, assign grid\n",
    "using SpeedyWeather\n",
    "using CairoMakie"
   ]
  },
  {
   "cell_type": "code",
   "execution_count": 2,
   "id": "ad21411d",
   "metadata": {},
   "outputs": [
    {
     "data": {
      "text/plain": [
       "PrecipOutput"
      ]
     },
     "execution_count": 2,
     "metadata": {},
     "output_type": "execute_result"
    }
   ],
   "source": [
    "spectral_grid = SpectralGrid(trunc = 31, nlayers=1, Grid=FullGaussianGrid)\n",
    "output = NetCDFOutput(spectral_grid, path=\"C:/Users/Yan/OneDrive/Desktop/UNI/Honours/ml-for-da-yanny-honours-2025/one_layer_up_to_training\")\n",
    "\n",
    "@kwdef struct TempOutput <: SpeedyWeather.AbstractOutputVariable\n",
    "    name::String = \"temp\"\n",
    "    unit::String = \"K\"\n",
    "    long_name::String = \"temperature\"\n",
    "    dims_xyzt::NTuple{4, Bool} = (true, true, true, true)\n",
    "end\n",
    "\n",
    "@kwdef struct SurPresOutput <: SpeedyWeather.AbstractOutputVariable\n",
    "    name::String = \"spres\"\n",
    "    unit::String = \"Pa\"\n",
    "    long_name::String = \"surface pressure\"\n",
    "    dims_xyzt::NTuple{4, Bool} = (true, true, false, true)\n",
    "end\n",
    "\n",
    "@kwdef struct DivOutput <: SpeedyWeather.AbstractOutputVariable\n",
    "    name::String = \"div\"\n",
    "    unit::String = \"s^-1\"\n",
    "    long_name::String = \"divergence\"\n",
    "    dims_xyzt::NTuple{4, Bool} = (true, true, true, true)\n",
    "end\n",
    "\n",
    "@kwdef struct HumidOutput <: SpeedyWeather.AbstractOutputVariable\n",
    "    name::String = \"humid\"\n",
    "    unit::String = \"\"\n",
    "    long_name::String = \"specific humidity\"\n",
    "    dims_xyzt::NTuple{4, Bool} = (true, true, true, true)\n",
    "end\n",
    "\n",
    "@kwdef struct PrecipOutput <: SpeedyWeather.AbstractOutputVariable\n",
    "    name::String = \"precip\"\n",
    "    unit::String = \"\"\n",
    "    long_name::String = \"precipitation\"\n",
    "    dims_xyzt::NTuple{4, Bool} = (true, true, false, true)\n",
    "end\n",
    "#@kwdef struct PresOutput <: SpeedyWeather.AbstractOutputVariable\n",
    "   # name::String = \"log pres\"\n",
    "   # unit::String = \"Pa\"\n",
    "   # long_name::String = \"pressure\"\n",
    "   # dims_xyzt::NTuple{4, Bool} = (true, true, false, true)\n",
    "#end\n"
   ]
  },
  {
   "cell_type": "code",
   "execution_count": 3,
   "id": "558b7021",
   "metadata": {},
   "outputs": [],
   "source": [
    "\n",
    "add!(output, TempOutput(), SurPresOutput(), DivOutput(), HumidOutput(), SpeedyWeather.PrecipitationOutput()...)\n",
    "SpeedyWeather.path(::TempOutput, simulation) =\n",
    "    simulation.diagnostic_variables.grid.temp_grid\n",
    "SpeedyWeather.path(::SurPresOutput, simulation) =\n",
    "    simulation.diagnostic_variables.grid.pres_grid\n",
    "SpeedyWeather.path(::DivOutput, simulation) =\n",
    "    simulation.diagnostic_variables.grid.div_grid\n",
    "SpeedyWeather.path(::HumidOutput, simulation) =\n",
    "    simulation.diagnostic_variables.grid.humid_grid\n",
    "#SpeedyWeather.path(::PresOutput, simulation) =\n",
    "    #simulation.diagnostic_variables.physics.cos_zenith"
   ]
  },
  {
   "cell_type": "code",
   "execution_count": 4,
   "id": "ebb83128",
   "metadata": {},
   "outputs": [
    {
     "data": {
      "text/plain": [
       "21600 seconds"
      ]
     },
     "execution_count": 4,
     "metadata": {},
     "output_type": "execute_result"
    }
   ],
   "source": [
    "time_stepping = Leapfrog(spectral_grid, Δt_at_T31=Minute(30))\n",
    "ocean = ConstantOceanClimatology(spectral_grid)\n",
    "planet = Earth(spectral_grid, seasonal_cycle = true, equinox = DateTime(2000, 3, 20))\n",
    "\n",
    "convection = SimplifiedBettsMiller(spectral_grid)\n",
    "large_scale_condensation = ImplicitCondensation(spectral_grid)\n",
    "temperature_relaxation = JablonowskiRelaxation(spectral_grid)\n",
    "model = PrimitiveWetModel(spectral_grid; output, time_stepping, temperature_relaxation, planet, ocean)\n",
    "orography = EarthOrography(spectral_grid)\n",
    "initialize!(orography, model) \n",
    "simulation = initialize!(model,time=DateTime(2001,1,1))\n",
    "# Output state vector every 6 hours = 21600 secs\n",
    "simulation.model.output.output_dt = Second(21600)"
   ]
  },
  {
   "cell_type": "code",
   "execution_count": 5,
   "id": "1a9b63db",
   "metadata": {},
   "outputs": [
    {
     "name": "stderr",
     "output_type": "stream",
     "text": [
      "\u001b[32mWeather is speedy: run 0001 100%|█████████| Time: 0:47:24 (911.58 years/day)\u001b[39mm\n"
     ]
    },
    {
     "data": {
      "text/plain": [
       "Simulation{PrimitiveWetModel}\n",
       "├ prognostic_variables::PrognosticVariables{...}\n",
       "├ diagnostic_variables::DiagnosticVariables{...}\n",
       "└ model::PrimitiveWetModel{...}"
      ]
     },
     "execution_count": 5,
     "metadata": {},
     "output_type": "execute_result"
    }
   ],
   "source": [
    "run!(simulation, period=Day(10955), output=true)#10955), output=true)"
   ]
  }
 ],
 "metadata": {
  "kernelspec": {
   "display_name": "Julia 1.11.4",
   "language": "julia",
   "name": "julia-1.11"
  },
  "language_info": {
   "file_extension": ".jl",
   "mimetype": "application/julia",
   "name": "julia",
   "version": "1.11.4"
  }
 },
 "nbformat": 4,
 "nbformat_minor": 5
}
