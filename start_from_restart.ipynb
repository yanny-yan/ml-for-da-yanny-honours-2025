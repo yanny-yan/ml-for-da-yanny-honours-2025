{
 "cells": [
  {
   "cell_type": "markdown",
   "id": "855d0807",
   "metadata": {},
   "source": [
    "## Reloading Julia Sim"
   ]
  },
  {
   "cell_type": "markdown",
   "id": "bcd8702b",
   "metadata": {},
   "source": [
    "### Set Up Model"
   ]
  },
  {
   "cell_type": "code",
   "execution_count": 50,
   "id": "a57f9d7b",
   "metadata": {},
   "outputs": [
    {
     "data": {
      "text/plain": [
       "Simulation{PrimitiveWetModel}\n",
       "├ prognostic_variables::PrognosticVariables{...}\n",
       "├ diagnostic_variables::DiagnosticVariables{...}\n",
       "└ model::PrimitiveWetModel{...}"
      ]
     },
     "execution_count": 50,
     "metadata": {},
     "output_type": "execute_result"
    }
   ],
   "source": [
    "OUTPUT_FOLDER_PRE = \"C:/Users/Yan/OneDrive/Desktop/UNI/Honours/ml-for-da-yanny-honours-2025/\"\n",
    "LAYER_FOLDER = \"one_layer_up_to_training\"\n",
    "OG_REANALYSIS_NC = \"one_layer_primitive_wet/output.nc\"\n",
    "REANALYSIS_NPZ = \"reanalysis/speedy_1layer_vor_div_reanalysis.npz\"\n",
    "SAVE_FOLDER =\"restart_runs\"\n",
    "\n",
    "using SpeedyWeather\n",
    "using NCDatasets\n",
    "using LinearAlgebra\n",
    "using CairoMakie\n",
    "\n",
    "spectral_grid = SpectralGrid(NF = Float64, trunc = 31, nlayers=1, Grid=FullGaussianGrid{Float64})\n",
    "output = NetCDFOutput(spectral_grid, path=OUTPUT_FOLDER_PRE*SAVE_FOLDER)\n",
    "\n",
    "@kwdef struct TempOutput <: SpeedyWeather.AbstractOutputVariable\n",
    "    name::String = \"temp\"\n",
    "    unit::String = \"K\"\n",
    "    long_name::String = \"temperature\"\n",
    "    dims_xyzt::NTuple{4, Bool} = (true, true, true, true)\n",
    "end\n",
    "\n",
    "@kwdef struct SurPresOutput <: SpeedyWeather.AbstractOutputVariable\n",
    "    name::String = \"spres\"\n",
    "    unit::String = \"Pa\"\n",
    "    long_name::String = \"surface pressure\"\n",
    "    dims_xyzt::NTuple{4, Bool} = (true, true, false, true)\n",
    "end\n",
    "\n",
    "@kwdef struct DivOutput <: SpeedyWeather.AbstractOutputVariable\n",
    "    name::String = \"div\"\n",
    "    unit::String = \"s^-1\"\n",
    "    long_name::String = \"divergence\"\n",
    "    dims_xyzt::NTuple{4, Bool} = (true, true, true, true)\n",
    "end\n",
    "\n",
    "@kwdef struct HumidOutput <: SpeedyWeather.AbstractOutputVariable\n",
    "    name::String = \"humid\"\n",
    "    unit::String = \"\"\n",
    "    long_name::String = \"specific humidity\"\n",
    "    dims_xyzt::NTuple{4, Bool} = (true, true, true, true)\n",
    "end\n",
    "\n",
    "@kwdef struct PrecipOutput <: SpeedyWeather.AbstractOutputVariable\n",
    "    name::String = \"precip\"\n",
    "    unit::String = \"\"\n",
    "    long_name::String = \"precipitation\"\n",
    "    dims_xyzt::NTuple{4, Bool} = (true, true, false, true)\n",
    "end\n",
    "\n",
    "\n",
    "add!(output, TempOutput(), SurPresOutput(), DivOutput(), HumidOutput(), SpeedyWeather.PrecipitationOutput()...)\n",
    "SpeedyWeather.path(::TempOutput, simulation) =\n",
    "    simulation.diagnostic_variables.grid.temp_grid\n",
    "SpeedyWeather.path(::SurPresOutput, simulation) =\n",
    "    simulation.diagnostic_variables.grid.pres_grid\n",
    "SpeedyWeather.path(::DivOutput, simulation) =\n",
    "    simulation.diagnostic_variables.grid.div_grid\n",
    "SpeedyWeather.path(::HumidOutput, simulation) =\n",
    "    simulation.diagnostic_variables.grid.humid_grid\n",
    "    \n",
    "time_stepping = Leapfrog(spectral_grid, Δt_at_T31=Minute(30))\n",
    "ocean = ConstantOceanClimatology(spectral_grid)\n",
    "planet = Earth(spectral_grid, seasonal_cycle = true, equinox = DateTime(2000, 3, 20))\n",
    "convection = SimplifiedBettsMiller(spectral_grid)\n",
    "large_scale_condensation = ImplicitCondensation(spectral_grid)\n",
    "temperature_relaxation = JablonowskiRelaxation(spectral_grid)\n",
    "model = PrimitiveWetModel(spectral_grid; output, time_stepping, temperature_relaxation, planet, ocean)\n",
    "orography = EarthOrography(spectral_grid)\n",
    "initialize!(orography, model) \n",
    "simulation = initialize!(model)"
   ]
  },
  {
   "cell_type": "code",
   "execution_count": 95,
   "id": "1e6c8b4a",
   "metadata": {},
   "outputs": [
    {
     "data": {
      "text/plain": [
       "17-element Vector{String}:\n",
       " \"time\"\n",
       " \"lon\"\n",
       " \"lat\"\n",
       " \"layer\"\n",
       " \"soil_layer\"\n",
       " \"precip_cond\"\n",
       " \"cloud_top\"\n",
       " \"v\"\n",
       " \"humid\"\n",
       " \"temp\"\n",
       " \"spres\"\n",
       " \"u\"\n",
       " \"div\"\n",
       " \"precip_conv\"\n",
       " \"vor\"\n",
       " \"precip_cond_rate\"\n",
       " \"precip_conv_rate\""
      ]
     },
     "execution_count": 95,
     "metadata": {},
     "output_type": "execute_result"
    }
   ],
   "source": [
    "# Load restart variables\n",
    "initialize!(simulation.prognostic_variables, StartFromFile(path=LAYER_FOLDER), model)\n",
    "keys(ds_for_restart)"
   ]
  },
  {
   "cell_type": "code",
   "execution_count": null,
   "id": "39b07e9d",
   "metadata": {},
   "outputs": [
    {
     "name": "stdout",
     "output_type": "stream",
     "text": [
      "The first time stamp on the simulation from restart, 2030-12-30T00:00:00\n",
      "The initial condition time stamp loaded in for restart is, 2030-12-30T00:00:00\n",
      "The renalaysis idx for 2030-12-30T00:00:00 in reanalysis is : 43821\n",
      "The 2-norm of difference in states for humid is, 6.2434771181828615e-6\n",
      "The 2-norm for the state humid is, 0.0002352633318913927\n"
     ]
    },
    {
     "data": {
      "text/plain": [
       "21901×48×96 Array{Float32, 3}:\n",
       "[:, :, 1] =\n",
       " 202.071  202.08   202.225  202.426  …  201.968  202.032  202.011  201.759\n",
       " 202.071  202.08   202.225  202.426     201.969  202.033  202.011  201.759\n",
       " 202.071  202.08   202.225  202.426     201.969  202.033  202.012  201.76\n",
       " 202.071  202.08   202.225  202.426     201.97   202.034  202.012  201.76\n",
       " 202.071  202.08   202.225  202.426     201.97   202.034  202.013  201.761\n",
       " 202.071  202.08   202.225  202.426  …  201.97   202.034  202.013  201.761\n",
       " 202.071  202.08   202.225  202.426     201.97   202.034  202.013  201.761\n",
       " 202.071  202.08   202.225  202.426     201.97   202.034  202.013  201.761\n",
       " 202.071  202.079  202.225  202.426     201.97   202.034  202.013  201.761\n",
       " 202.071  202.079  202.225  202.426     201.97   202.034  202.013  201.761\n",
       " 202.071  202.079  202.225  202.426  …  201.97   202.034  202.013  201.761\n",
       " 202.071  202.079  202.224  202.426     201.97   202.034  202.013  201.761\n",
       " 202.071  202.079  202.224  202.426     201.97   202.034  202.012  201.761\n",
       "   ⋮                                 ⋱             ⋮               \n",
       " 202.072  202.081  202.226  202.427     201.957  202.021  202.0    201.748\n",
       " 202.071  202.081  202.226  202.427  …  201.958  202.021  202.0    201.748\n",
       " 202.071  202.081  202.226  202.427     201.958  202.022  202.001  201.748\n",
       " 202.071  202.081  202.226  202.427     201.959  202.022  202.001  201.749\n",
       " 202.071  202.081  202.226  202.427     201.959  202.023  202.002  201.75\n",
       " 202.071  202.081  202.226  202.427     201.96   202.023  202.002  201.75\n",
       " 202.071  202.081  202.226  202.427  …  201.96   202.024  202.003  201.75\n",
       " 202.071  202.081  202.226  202.427     201.96   202.024  202.003  201.751\n",
       " 202.071  202.081  202.226  202.427     201.961  202.025  202.004  201.751\n",
       " 202.071  202.081  202.225  202.427     201.962  202.025  202.004  201.752\n",
       " 202.071  202.081  202.225  202.427     201.962  202.026  202.005  201.752\n",
       " 202.071  202.081  202.225  202.427  …  201.962  202.026  202.005  201.753\n",
       "\n",
       "[:, :, 2] =\n",
       " 202.067  202.072  202.217  202.429  …  201.941  202.013  202.001  201.756\n",
       " 202.067  202.072  202.217  202.429     201.942  202.014  202.002  201.757\n",
       " 202.067  202.072  202.217  202.429     201.942  202.014  202.002  201.757\n",
       " 202.067  202.072  202.217  202.429     201.943  202.015  202.003  201.758\n",
       " 202.067  202.072  202.217  202.429     201.943  202.015  202.003  201.758\n",
       " 202.067  202.072  202.217  202.429  …  201.943  202.015  202.003  201.758\n",
       " 202.067  202.072  202.217  202.429     201.943  202.015  202.003  201.758\n",
       " 202.067  202.072  202.217  202.429     201.943  202.015  202.003  201.758\n",
       " 202.067  202.072  202.217  202.429     201.943  202.015  202.003  201.758\n",
       " 202.067  202.072  202.217  202.429     201.943  202.015  202.003  201.758\n",
       " 202.067  202.072  202.217  202.429  …  201.943  202.015  202.003  201.758\n",
       " 202.067  202.072  202.217  202.429     201.943  202.015  202.003  201.758\n",
       " 202.067  202.072  202.217  202.429     201.943  202.015  202.003  201.758\n",
       "   ⋮                                 ⋱             ⋮               \n",
       " 202.068  202.073  202.218  202.429     201.93   202.002  201.99   201.745\n",
       " 202.068  202.073  202.218  202.429  …  201.93   202.002  201.99   201.745\n",
       " 202.068  202.073  202.218  202.429     201.931  202.003  201.991  201.746\n",
       " 202.068  202.073  202.218  202.429     201.931  202.003  201.991  201.746\n",
       " 202.067  202.073  202.218  202.429     201.932  202.004  201.992  201.747\n",
       " 202.067  202.073  202.218  202.429     201.932  202.004  201.992  201.747\n",
       " 202.067  202.073  202.218  202.429  …  201.933  202.005  201.993  201.748\n",
       " 202.067  202.073  202.218  202.429     201.933  202.005  201.993  201.748\n",
       " 202.067  202.073  202.218  202.429     201.934  202.006  201.994  201.749\n",
       " 202.067  202.073  202.218  202.429     201.934  202.006  201.994  201.749\n",
       " 202.067  202.073  202.218  202.429     201.935  202.007  201.995  201.75\n",
       " 202.067  202.073  202.218  202.429  …  201.935  202.007  201.995  201.75\n",
       "\n",
       "[:, :, 3] =\n",
       " 202.063  202.066  202.21  202.428  …  201.914  201.991  201.988  201.753\n",
       " 202.063  202.066  202.21  202.428     201.915  201.992  201.989  201.753\n",
       " 202.063  202.066  202.21  202.428     201.915  201.992  201.989  201.754\n",
       " 202.063  202.066  202.21  202.428     201.916  201.993  201.99   201.754\n",
       " 202.063  202.066  202.21  202.428     201.916  201.993  201.99   201.755\n",
       " 202.063  202.066  202.21  202.428  …  201.916  201.993  201.99   201.755\n",
       " 202.063  202.066  202.21  202.428     201.916  201.993  201.99   201.755\n",
       " 202.063  202.066  202.21  202.428     201.916  201.993  201.99   201.755\n",
       " 202.063  202.066  202.21  202.428     201.916  201.993  201.99   201.755\n",
       " 202.063  202.066  202.21  202.428     201.916  201.993  201.99   201.755\n",
       " 202.063  202.066  202.21  202.428  …  201.916  201.993  201.99   201.755\n",
       " 202.063  202.066  202.21  202.428     201.916  201.993  201.99   201.754\n",
       " 202.063  202.065  202.21  202.428     201.916  201.993  201.99   201.754\n",
       "   ⋮                                ⋱             ⋮               \n",
       " 202.064  202.067  202.21  202.427     201.902  201.979  201.977  201.741\n",
       " 202.064  202.067  202.21  202.427  …  201.902  201.98   201.977  201.742\n",
       " 202.064  202.067  202.21  202.427     201.903  201.98   201.978  201.742\n",
       " 202.064  202.067  202.21  202.427     201.903  201.98   201.978  201.743\n",
       " 202.064  202.067  202.21  202.427     201.904  201.981  201.979  201.743\n",
       " 202.064  202.066  202.21  202.427     201.905  201.982  201.979  201.744\n",
       " 202.064  202.066  202.21  202.427  …  201.905  201.982  201.98   201.744\n",
       " 202.064  202.066  202.21  202.427     201.905  201.983  201.98   201.745\n",
       " 202.064  202.066  202.21  202.427     201.906  201.983  201.981  201.745\n",
       " 202.064  202.066  202.21  202.427     201.907  201.984  201.981  201.746\n",
       " 202.064  202.066  202.21  202.427     201.907  201.984  201.982  201.746\n",
       " 202.064  202.066  202.21  202.427  …  201.908  201.985  201.982  201.747\n",
       "\n",
       ";;; … \n",
       "\n",
       "[:, :, 94] =\n",
       " 202.083  202.104  202.237  202.373  …  202.046  202.069  202.022  201.761\n",
       " 202.083  202.104  202.236  202.373     202.047  202.07   202.022  201.762\n",
       " 202.083  202.104  202.236  202.373     202.047  202.07   202.023  201.762\n",
       " 202.083  202.104  202.236  202.373     202.048  202.071  202.023  201.763\n",
       " 202.083  202.104  202.236  202.373     202.048  202.071  202.024  201.763\n",
       " 202.083  202.104  202.236  202.373  …  202.048  202.071  202.024  201.763\n",
       " 202.083  202.104  202.236  202.373     202.048  202.071  202.024  201.763\n",
       " 202.083  202.104  202.236  202.373     202.048  202.071  202.024  201.763\n",
       " 202.083  202.104  202.236  202.373     202.048  202.071  202.024  201.763\n",
       " 202.083  202.104  202.236  202.372     202.048  202.071  202.024  201.763\n",
       " 202.083  202.104  202.236  202.372  …  202.048  202.071  202.023  201.763\n",
       " 202.083  202.104  202.235  202.372     202.048  202.071  202.023  201.763\n",
       " 202.083  202.104  202.235  202.372     202.047  202.071  202.023  201.763\n",
       "   ⋮                                 ⋱             ⋮               \n",
       " 202.084  202.106  202.239  202.376     202.038  202.06   202.012  201.75\n",
       " 202.084  202.106  202.239  202.376  …  202.039  202.06   202.012  201.751\n",
       " 202.084  202.106  202.239  202.376     202.039  202.06   202.013  201.751\n",
       " 202.084  202.106  202.239  202.375     202.039  202.061  202.013  201.751\n",
       " 202.084  202.106  202.239  202.375     202.04   202.061  202.013  201.752\n",
       " 202.084  202.106  202.238  202.375     202.04   202.062  202.014  201.752\n",
       " 202.084  202.106  202.238  202.375  …  202.04   202.062  202.014  201.753\n",
       " 202.084  202.106  202.238  202.375     202.041  202.062  202.015  201.753\n",
       " 202.084  202.106  202.238  202.375     202.041  202.063  202.015  201.754\n",
       " 202.084  202.106  202.238  202.375     202.042  202.063  202.016  201.754\n",
       " 202.084  202.106  202.238  202.375     202.042  202.064  202.016  201.755\n",
       " 202.084  202.105  202.238  202.375  …  202.042  202.064  202.016  201.755\n",
       "\n",
       "[:, :, 95] =\n",
       " 202.079  202.096  202.235  202.4    …  202.021  202.06   202.021  201.761\n",
       " 202.079  202.096  202.235  202.4       202.021  202.061  202.022  201.762\n",
       " 202.079  202.096  202.235  202.4       202.022  202.061  202.022  201.762\n",
       " 202.079  202.096  202.235  202.4       202.022  202.062  202.023  201.763\n",
       " 202.079  202.096  202.235  202.4       202.022  202.062  202.023  201.763\n",
       " 202.079  202.096  202.235  202.4    …  202.023  202.062  202.023  201.763\n",
       " 202.079  202.096  202.235  202.4       202.023  202.062  202.023  201.763\n",
       " 202.079  202.096  202.235  202.4       202.023  202.062  202.023  201.763\n",
       " 202.079  202.096  202.235  202.4       202.023  202.062  202.023  201.763\n",
       " 202.079  202.096  202.234  202.4       202.022  202.062  202.023  201.763\n",
       " 202.079  202.096  202.234  202.4    …  202.022  202.062  202.023  201.763\n",
       " 202.079  202.096  202.234  202.4       202.022  202.062  202.023  201.763\n",
       " 202.079  202.095  202.234  202.4       202.022  202.062  202.023  201.763\n",
       "   ⋮                                 ⋱             ⋮               \n",
       " 202.08   202.098  202.237  202.402     202.012  202.05   202.011  201.75\n",
       " 202.08   202.098  202.237  202.402  …  202.012  202.051  202.011  201.751\n",
       " 202.08   202.098  202.237  202.402     202.013  202.051  202.012  201.751\n",
       " 202.08   202.098  202.237  202.402     202.013  202.051  202.012  201.751\n",
       " 202.08   202.098  202.237  202.402     202.013  202.052  202.013  201.752\n",
       " 202.08   202.098  202.237  202.401     202.014  202.052  202.013  201.753\n",
       " 202.08   202.097  202.237  202.401  …  202.014  202.053  202.014  201.753\n",
       " 202.08   202.097  202.237  202.401     202.014  202.053  202.014  201.753\n",
       " 202.079  202.097  202.236  202.401     202.015  202.054  202.014  201.754\n",
       " 202.079  202.097  202.236  202.401     202.015  202.054  202.015  201.755\n",
       " 202.079  202.097  202.236  202.401     202.016  202.055  202.015  201.755\n",
       " 202.079  202.097  202.236  202.401  …  202.016  202.055  202.016  201.755\n",
       "\n",
       "[:, :, 96] =\n",
       " 202.075  202.088  202.231  202.418  …  201.995  202.048  202.018  201.76\n",
       " 202.075  202.088  202.231  202.418     201.995  202.049  202.018  201.761\n",
       " 202.075  202.088  202.231  202.417     201.996  202.049  202.019  201.762\n",
       " 202.075  202.088  202.231  202.417     201.996  202.05   202.019  201.762\n",
       " 202.075  202.088  202.231  202.417     201.996  202.05   202.019  201.762\n",
       " 202.075  202.088  202.231  202.417  …  201.997  202.05   202.019  201.762\n",
       " 202.075  202.088  202.231  202.417     201.997  202.05   202.02   201.762\n",
       " 202.075  202.088  202.231  202.417     201.997  202.05   202.02   201.762\n",
       " 202.075  202.087  202.231  202.417     201.997  202.05   202.02   201.763\n",
       " 202.075  202.087  202.231  202.417     201.997  202.05   202.019  201.762\n",
       " 202.075  202.087  202.23   202.417  …  201.996  202.05   202.019  201.762\n",
       " 202.075  202.087  202.23   202.417     201.996  202.049  202.019  201.762\n",
       " 202.075  202.087  202.23   202.417     201.996  202.049  202.019  201.762\n",
       "   ⋮                                 ⋱             ⋮               \n",
       " 202.076  202.089  202.233  202.419     201.985  202.037  202.007  201.749\n",
       " 202.076  202.089  202.232  202.418  …  201.985  202.038  202.007  201.75\n",
       " 202.076  202.089  202.232  202.418     201.986  202.038  202.008  201.75\n",
       " 202.076  202.089  202.232  202.418     201.986  202.038  202.008  201.751\n",
       " 202.075  202.089  202.232  202.418     201.986  202.039  202.009  201.751\n",
       " 202.075  202.089  202.232  202.418     201.987  202.04   202.009  201.752\n",
       " 202.075  202.089  202.232  202.418  …  201.987  202.04   202.01   201.752\n",
       " 202.075  202.089  202.232  202.418     201.988  202.04   202.01   201.753\n",
       " 202.075  202.089  202.232  202.418     201.988  202.041  202.011  201.753\n",
       " 202.075  202.089  202.232  202.418     201.989  202.041  202.011  201.754\n",
       " 202.075  202.089  202.232  202.418     201.989  202.042  202.012  201.754\n",
       " 202.075  202.089  202.232  202.418  …  201.989  202.042  202.012  201.755"
      ]
     },
     "execution_count": 288,
     "metadata": {},
     "output_type": "execute_result"
    }
   ],
   "source": [
    "using NPZ\n",
    "\n",
    "# load in timestep before restart \n",
    "ds_reanalysis = NCDataset(OUTPUT_FOLDER_PRE*OG_REANALYSIS_NC)\n",
    "ds_reanalysis_npz = npzread(\"reanalysis/speedy_1layer_u_v_reanalysis.npz\")\n",
    "ds_restart_no_lf = NCDataset(\"restart_runs/run_0001/output.nc\")\n",
    "\n",
    "start_t = 29221 # 2021-01-01 start \n",
    "restart_date = start_t + 365*4*10\n",
    "finish_t = start_t + 365*4*15 #15 years\n",
    "\n",
    "println(\"The first time stamp on the simulation from restart, \", ds_restart_no_lf[\"time\"][1])\n",
    "println(\"The initial condition time stamp loaded in for restart is, \", simulation.prognostic_variables.clock.time)\n",
    "println(\"The renalaysis idx for \", ds_reanalysis[\"time\"][restart_date], \" in reanalysis is : \", restart_date)\n",
    "\n",
    "t = 1\n",
    "var_name = \"humid\"\n",
    "diff_states = Float64.(ds_restart_no_lf[var_name][:,:, 1, 1 + t]) - Float64.(ds_reanalysis[var_name][:,:, 1, restart_date + t])\n",
    "println(\"The 2-norm of difference in states for \", var_name, \" is, \", norm(diff_states))\n",
    "println(\"The 2-norm for the state \", var_name, \" is, \", norm(Float64.(ds_reanalysis[var_name][:,:, 1, restart_date + t])))\n",
    "# println(diff_states)\n",
    "\n",
    "heatmap(FullGaussianField(diff_states, input_as=Matrix), title = \"Temperature difference (K), $( ds_reanalysis[\"time\"][restart_date + 1])\")\n",
    "\n",
    "\n",
    "# ========== FULL STATES========================================\n",
    "# t = start_t + 10000\n",
    "# target_date = ds_reanalysis[\"time\"][t]\n",
    "# spres_map = heatmap(FullGaussianField(Float64.(ds_reanalysis[\"spres\"][:,:, t]), input_as=Matrix); \n",
    "#     title = \"Surface Pressure (log Pa), $(target_date)\")\n",
    "# temp_map = heatmap(FullGaussianField(Float64.(ds_reanalysis[\"temp\"][:,:,1, t]), input_as=Matrix); title=\"Temperature (K), $(target_date)\")\n",
    "# u_map = heatmap(FullGaussianField(Float64.(ds_reanalysis[\"u\"][:,:,1, t]), input_as=Matrix), title=\"u wind (m/s), $(target_date)\")\n",
    "# v_map = heatmap(FullGaussianField(Float64.(ds_reanalysis[\"v\"][:,:,1, t]), input_as=Matrix), title=\"v wind (m/s), $(target_date)\")\n",
    "# vor_map = heatmap(FullGaussianField(Float64.(ds_reanalysis[\"vor\"][:,:,1, t]), input_as=Matrix), title=\"vorticity (s⁻¹), $(target_date)\")\n",
    "# div_map = heatmap(FullGaussianField(Float64.(ds_reanalysis[\"div\"][:,:,1, t]), input_as=Matrix), title=\"divergence (s⁻¹), $(target_date)\")\n",
    "# humid_map = heatmap(FullGaussianField(Float64.(ds_reanalysis[\"humid\"][:, :, 1, t]), input_as=Matrix), title=\"specific humidity (kg/kg), $(target_date)\")\n"
   ]
  },
  {
   "cell_type": "code",
   "execution_count": 186,
   "id": "413dc298",
   "metadata": {},
   "outputs": [
    {
     "data": {
      "text/html": [
       "# 1 method for generic function <b>heatmap!</b> from \u001b[36mMakie\u001b[39m:<ul><li> heatmap!(args...; <i>kw...</i>) in Makie at <a href=\"file://C:/Users/Yan/.julia/packages/Makie/6zcxH/src/recipes.jl\" target=\"_blank\">C:\\Users\\Yan\\.julia\\packages\\Makie\\6zcxH\\src\\recipes.jl:519</a></li> </ul>"
      ],
      "text/plain": [
       "# 1 method for generic function \"heatmap!\" from \u001b[36mMakie\u001b[39m:\n",
       " [1] heatmap!(\u001b[90margs...\u001b[39m; kw...)\n",
       "\u001b[90m     @\u001b[39m \u001b[90mC:\\Users\\Yan\\.julia\\packages\\Makie\\6zcxH\\src\\\u001b[39m\u001b[90m\u001b[4mrecipes.jl:519\u001b[24m\u001b[39m"
      ]
     },
     "execution_count": 186,
     "metadata": {},
     "output_type": "execute_result"
    }
   ],
   "source": [
    "methods(heatmap!)"
   ]
  },
  {
   "cell_type": "markdown",
   "id": "58b8c00e",
   "metadata": {},
   "source": [
    "### Is running the simulation from start the same"
   ]
  },
  {
   "cell_type": "code",
   "execution_count": 4,
   "id": "f5c86a1d",
   "metadata": {},
   "outputs": [
    {
     "name": "stderr",
     "output_type": "stream",
     "text": [
      "\u001b[32mWeather is speedy: run 0001 100%|█████████| Time: 0:00:07 (1607.65 years/day)\u001b[39m\n"
     ]
    },
    {
     "data": {
      "text/plain": [
       "Simulation{PrimitiveWetModel}\n",
       "├ prognostic_variables::PrognosticVariables{...}\n",
       "├ diagnostic_variables::DiagnosticVariables{...}\n",
       "└ model::PrimitiveWetModel{...}"
      ]
     },
     "execution_count": 4,
     "metadata": {},
     "output_type": "execute_result"
    }
   ],
   "source": [
    "run!(simulation, period=Day(50), output=true)#10955), output=true)"
   ]
  },
  {
   "cell_type": "code",
   "execution_count": null,
   "id": "b19b3ce7",
   "metadata": {},
   "outputs": [
    {
     "name": "stdout",
     "output_type": "stream",
     "text": [
      "2030-12-30T00:00:00\n",
      "2030-12-30T00:00:00\n"
     ]
    }
   ],
   "source": [
    "using NPZ\n",
    "\n",
    "ds_reanalysis = NCDataset(OUTPUT_FOLDER_PRE*OG_REANALYSIS_NC)\n",
    "\n",
    "#length of time\n",
    "start_t = 29221 # 2021-01-01 start \n",
    "finish_t = start_t + 365*4*15 #15 years\n",
    "all_time = ds_reanalysis[\"time\"][:]\n",
    "times = ds_reanalysis[\"time\"][start_t : finish_t]\n",
    "time_len = size(times)[1]\n",
    "lat_count = 48\n",
    "lon_count = 96\n",
    "year_steps = 1460\n",
    "\n",
    "ds_restart = NCDataset(\"restart_runs/run_0001/output.nc\")\n",
    "ds_npz = npzread(REANALYSIS_NPZ)\n",
    "\n",
    "println(ds_restart[\"time\"][1])\n",
    "println(ds_reanalysis[\"time\"][start_t+365*4*10])"
   ]
  },
  {
   "cell_type": "code",
   "execution_count": 48,
   "id": "59be0ecd",
   "metadata": {},
   "outputs": [
    {
     "data": {
      "text/plain": [
       "\u001b[32mtime\u001b[39m (201)\n",
       "  Datatype:    \u001b[0m\u001b[1mDateTime\u001b[22m (Float64)\n",
       "  Dimensions:  time\n",
       "  Attributes:\n",
       "   units                = \u001b[36mhours since 2000-01-01 00:00:0.0\u001b[39m\n",
       "   calendar             = \u001b[36mproleptic_gregorian\u001b[39m\n",
       "   long_name            = \u001b[36mtime\u001b[39m\n",
       "   standard_name        = \u001b[36mtime\u001b[39m\n"
      ]
     },
     "execution_count": 48,
     "metadata": {},
     "output_type": "execute_result"
    }
   ],
   "source": [
    "ds_restart[\"time\"]"
   ]
  },
  {
   "cell_type": "code",
   "execution_count": 62,
   "id": "f71a8a0d",
   "metadata": {},
   "outputs": [
    {
     "data": {
      "text/plain": [
       "0.3478618f0"
      ]
     },
     "execution_count": 62,
     "metadata": {},
     "output_type": "execute_result"
    }
   ],
   "source": [
    "sqrt(norm(difference[25:50,1:10]))"
   ]
  },
  {
   "cell_type": "code",
   "execution_count": null,
   "id": "3007c7c4",
   "metadata": {},
   "outputs": [
    {
     "name": "stdout",
     "output_type": "stream",
     "text": [
      "0.32360968\n",
      "27.897314\n"
     ]
    },
    {
     "data": {
      "image/png": "[encoded data removed]",
      "text/html": [
       "<img width=600 height=450 style='object-fit: contain; height: auto;' src=\"data:image/png;base64, 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\"/>"
      ]
     },
     "execution_count": 72,
     "metadata": {},
     "output_type": "execute_result"
    }
   ],
   "source": [
    "difference = ds_reanalysis[\"spres\"][:,:,start_t+365*4*10+180] - ds_restart[\"spres\"][:,:,1+180]\n",
    "println()"
   ]
  },
  {
   "cell_type": "markdown",
   "id": "44a2e987",
   "metadata": {},
   "source": [
    "### Find Perturbation"
   ]
  },
  {
   "cell_type": "code",
   "execution_count": 4,
   "id": "d0984780",
   "metadata": {},
   "outputs": [
    {
     "name": "stdout",
     "output_type": "stream",
     "text": [
      "Is the start of the reanalysis 29221 time steps away from 2001-01-01 ? \n",
      "true\n",
      "Hence (finish_t - 500) same as (end - 500) in reanalysis.npz will still be within the testing dataset\n",
      "true"
     ]
    },
    {
     "data": {
      "text/plain": [
       "Field{Float64, 1, Vector{Float64}, FullGaussianGrid{SpeedyWeather.Architectures.CPU{KernelAbstractions.CPU}, Vector{UnitRange{Int64}}, Vector{Int64}}}"
      ]
     },
     "execution_count": 4,
     "metadata": {},
     "output_type": "execute_result"
    }
   ],
   "source": [
    "using NPZ\n",
    "using NCDatasets\n",
    "using CairoMakie\n",
    "\n",
    "data_npz = npzread(REANALYSIS_NPZ)\n",
    "ds = NCDataset(OUTPUT_FOLDER_PRE*OG_REANALYSIS_NC)\n",
    "\n",
    "#length of time\n",
    "start_t = 29221 # 2021-01-01 start \n",
    "finish_t = start_t + 365*4*15 #15 years\n",
    "all_time = ds[\"time\"][:]\n",
    "times = ds[\"time\"][start_t : finish_t]\n",
    "time_len = size(times)[1]\n",
    "lat_count = 48\n",
    "lon_count = 96\n",
    "year_steps = 1460\n",
    "\n",
    "print(\"Is the start of the reanalysis \", start_t, \" time steps away from 2001-01-01 ? \\n\")\n",
    "print(data_npz[\"vorticity\"][1,:,:] == permutedims(ds[\"vor\"][:,:,1,start_t], (2,1)))\n",
    "\n",
    "print(\"\\nHence (finish_t - 500) same as (end - 500) in reanalysis.npz will still be within the testing dataset\\n\")\n",
    "print(data_npz[\"divergence\"][end-500,:,:] == permutedims(ds[\"div\"][:,:,1,finish_t-500], (2,1)))\n",
    "\n",
    "prog_variables = [\"temperature\", \"humidity\", \"vorticity\", \"divergence\", \"surface_pressure\"]\n",
    "prog_data_pert = Dict{String, Any}()\n",
    "prog_pert_field = Dict{String, Any}()\n",
    "for key in prog_variables\n",
    "    prog_data_pert[key] = Float64.(data_npz[key][end - 500, :, :]) - Float64.(data_npz[key][end - 528, :, :])\n",
    "    prog_pert_field[key] = FullGaussianGrid(prog_data_pert[key], input_as=Matrix)\n",
    "end\n",
    "typeof(prog_pert_field[\"temperature\"])"
   ]
  },
  {
   "cell_type": "code",
   "execution_count": 5,
   "id": "13a003ad",
   "metadata": {},
   "outputs": [
    {
     "name": "stdout",
     "output_type": "stream",
     "text": [
      "0.3083069258870492"
     ]
    },
    {
     "data": {
      "text/plain": [
       "4608-element, 48-ring FullGaussianField{Float64, 1} on Array on SpeedyWeather.Architectures.CPU{KernelAbstractions.CPU}:\n",
       "  0.0024536797396203422\n",
       "  0.00037920673323062757\n",
       " -0.0032932308608680117\n",
       " -0.0024772978119675876\n",
       "  0.0007741491587580866\n",
       "  0.0013443345741150838\n",
       " -0.00012637702654053922\n",
       " -0.0017917331384175626\n",
       " -0.0039389267943998486\n",
       " -0.003910463521212812\n",
       "  0.0009646397907286437\n",
       "  0.005423852426622912\n",
       "  0.00351797659467295\n",
       "  ⋮\n",
       "  0.001055805603278618\n",
       "  0.0015164378039087302\n",
       "  0.001200198423696103\n",
       "  0.0008646909932005144\n",
       "  0.0012347131101667365\n",
       "  0.0011982060167778131\n",
       "  0.0006926693118118037\n",
       "  0.0006942232539931116\n",
       "  0.000470976951647502\n",
       " -0.00044069335153678734\n",
       " -0.000715088006162623\n",
       " -0.0003177259814432586"
      ]
     },
     "execution_count": 5,
     "metadata": {},
     "output_type": "execute_result"
    }
   ],
   "source": [
    "# spectral_grid = SpectralGrid(NF = Float64, trunc = 31, nlayers=1, Grid=FullGaussianGrid{Float64})\n",
    "S_fp64 = SpectralTransform(spectral_grid)\n",
    "pert_grid_to_spectral = Dict{String, Any}()\n",
    "a = Dict{String, Any}()\n",
    "b = Dict{String, Any}()\n",
    "back_to_grid = Dict{String,Any}()\n",
    "\n",
    "for key in prog_variables\n",
    "    pert_grid_to_spectral[key] = transform(prog_pert_field[key], S_fp64)\n",
    "    a[key] = transform(pert_grid_to_spectral[key], S_fp64)\n",
    "    b[key] = transform(a[key], S_fp64)\n",
    "    back_to_grid[key] = transform(b[key], S_fp64)\n",
    "end\n",
    "\n",
    "print(norm(prog_pert_field[\"divergence\"]))\n",
    "prog_pert_field[\"divergence\"]-back_to_grid[\"divergence\"]"
   ]
  },
  {
   "cell_type": "code",
   "execution_count": 6,
   "id": "09214d9f",
   "metadata": {},
   "outputs": [
    {
     "data": {
      "text/plain": [
       "LowerTriangularArray{ComplexF64, 3, Array{ComplexF64, 3}, Spectrum{SpeedyWeather.Architectures.CPU{KernelAbstractions.CPU}, Vector{UnitRange{Int64}}, Vector{Int64}}}"
      ]
     },
     "execution_count": 6,
     "metadata": {},
     "output_type": "execute_result"
    }
   ],
   "source": [
    "L = zeros(LowerTriangularArray{ComplexF64}, 33, 32, 1, 2)\n",
    "\n",
    "vor_pert = copy(L)\n",
    "vor_pert[:, :, 1] = transform(prog_pert_field[\"vorticity\"], S_fp64)\n",
    "\n",
    "div_pert = copy(L)\n",
    "div_pert[:, :, 1] = transform(prog_pert_field[\"divergence\"], S_fp64)\n",
    "# typeof(v_pert)\n",
    "sv = view(div_pert, :, :, 1)\n",
    "typeof(vor_pert)"
   ]
  },
  {
   "cell_type": "code",
   "execution_count": 7,
   "id": "faf145f3",
   "metadata": {},
   "outputs": [
    {
     "name": "stdout",
     "output_type": "stream",
     "text": [
      "Before peturbing\n"
     ]
    },
    {
     "data": {
      "text/plain": [
       "560×1×2 LowerTriangularArray{ComplexF64, 3, Array{ComplexF64, 3}, Spectrum{SpeedyWeather.Architectures.CPU{KernelAbstractions.CPU}, Vector{UnitRange{Int64}}, Vector{Int64}}}\n",
       "[:, :, 1] =\n",
       " -0.00016544507801278169 + 0.0im\n",
       "  -0.0003190831339096819 + 0.0im\n",
       "  -0.0007121958009527834 + 0.0im\n",
       "   0.0004529180831080081 + 0.0im\n",
       "   0.0016819455870141717 + 0.0im\n",
       "  -0.0004463570225592156 + 0.0im\n",
       "  -0.0009161660330566078 + 0.0im\n",
       "  -0.0009230481734261543 + 0.0im\n",
       "   -0.000826904405454058 + 0.0im\n",
       "   0.0017288658646194325 + 0.0im\n",
       "    0.001367230934107862 + 0.0im\n",
       "  -0.0011489303887033324 + 0.0im\n",
       "  -0.0012034804448073043 + 0.0im\n",
       "                         ⋮\n",
       " -0.00014559463073641202 - 0.00020664139657063115im\n",
       "  -0.0001421905947305142 + 9.1679995123492e-5im\n",
       "  -0.0001503979423747676 - 7.368110974644898e-5im\n",
       "   2.7210188012828514e-5 - 1.6289576439006912e-5im\n",
       "  -3.0288281128444567e-6 + 1.0116006198248816e-5im\n",
       "  -2.5849775371005597e-5 + 7.00170839962246e-6im\n",
       "    4.180726455757126e-6 - 9.633413828600257e-6im\n",
       " -0.00010917156341303299 + 0.00011934458748163575im\n",
       "   -0.000261084507574964 + 0.00032431907747033787im\n",
       " -0.00013528998933583705 - 4.092536887960488e-5im\n",
       "   2.6062470633490948e-6 - 1.8905500237330548e-5im\n",
       "    4.289930412602777e-6 - 9.615766206141484e-7im\n",
       "\n",
       "[:, :, 2] =\n",
       " 0.0 + 0.0im\n",
       " 0.0 + 0.0im\n",
       " 0.0 + 0.0im\n",
       " 0.0 + 0.0im\n",
       " 0.0 + 0.0im\n",
       " 0.0 + 0.0im\n",
       " 0.0 + 0.0im\n",
       " 0.0 + 0.0im\n",
       " 0.0 + 0.0im\n",
       " 0.0 + 0.0im\n",
       " 0.0 + 0.0im\n",
       " 0.0 + 0.0im\n",
       " 0.0 + 0.0im\n",
       "     ⋮\n",
       " 0.0 + 0.0im\n",
       " 0.0 + 0.0im\n",
       " 0.0 + 0.0im\n",
       " 0.0 + 0.0im\n",
       " 0.0 + 0.0im\n",
       " 0.0 + 0.0im\n",
       " 0.0 + 0.0im\n",
       " 0.0 + 0.0im\n",
       " 0.0 + 0.0im\n",
       " 0.0 + 0.0im\n",
       " 0.0 + 0.0im\n",
       " 0.0 + 0.0im"
      ]
     },
     "execution_count": 7,
     "metadata": {},
     "output_type": "execute_result"
    }
   ],
   "source": [
    "println(\"Before peturbing\")\n",
    "vor_pre = copy(simulation.prognostic_variables.vor)\n",
    "div_pre = copy(simulation.prognostic_variables.div)\n",
    "\n",
    "set!(simulation.prognostic_variables.vor, vor_pert; add=true)\n",
    "set!(simulation.prognostic_variables.div, div_pert; add=true)"
   ]
  },
  {
   "cell_type": "code",
   "execution_count": null,
   "id": "158a8331",
   "metadata": {},
   "outputs": [
    {
     "name": "stdout",
     "output_type": "stream",
     "text": [
      "norm of perturbation divergence: 0.011750413272946892\n",
      "norm of perturbation vorticity: 1.0714669510680934e-7\n",
      "Back to grid space???\n",
      "7.126754185084194e-15\n"
     ]
    }
   ],
   "source": [
    "println(\"norm of perturbation divergence: \", norm(div_pert))\n",
    "println(\"norm of perturbation vorticity: \", norm(vor_pert))\n",
    "\n",
    "println(\"Back to grid space???\")\n",
    "div_diff_grid = transform(simulation.prognostic_variables.div, S_fp64) - transform(div_pre, S_fp64)\n",
    "div_pert_grid = transform(div_pert, S_fp64)\n",
    "println(norm(div_pert_grid - div_diff_grid)/norm(div_pert))"
   ]
  },
  {
   "cell_type": "code",
   "execution_count": 6,
   "id": "66133dfc",
   "metadata": {},
   "outputs": [
    {
     "data": {
      "text/plain": [
       "true"
      ]
     },
     "execution_count": 6,
     "metadata": {},
     "output_type": "execute_result"
    }
   ],
   "source": [
    "rotate_map(x::Any) = permutedims(x, (1,2))\n",
    "\n",
    "fig = Figure(size=(800, 1000))\n",
    "ax1, hm1 = heatmap(fig[1,1], permutedims(rotate_map(prog_data_pert[\"temperature\"])), colormap=:viridis)\n",
    "ax1.yreversed=true\n",
    "Colorbar(fig[1,2], hm1)\n",
    "\n",
    "ax2, hm2 = heatmap(fig[2,1], permutedims(rotate_map(data_npz[\"temperature\"][end - 500, :, :])), colormap=:viridis)\n",
    "Colorbar(fig[2,2], hm2)\n",
    "ax2.yreversed=true\n",
    "# fig\n"
   ]
  }
 ],
 "metadata": {
  "kernelspec": {
   "display_name": "Julia 1.11.4",
   "language": "julia",
   "name": "julia-1.11"
  },
  "language_info": {
   "file_extension": ".jl",
   "mimetype": "application/julia",
   "name": "julia",
   "version": "1.11.4"
  }
 },
 "nbformat": 4,
 "nbformat_minor": 5
}
