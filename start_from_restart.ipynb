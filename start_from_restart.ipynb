{
 "cells": [
  {
   "cell_type": "markdown",
   "id": "855d0807",
   "metadata": {},
   "source": [
    "## Reloading Julia Sim"
   ]
  },
  {
   "cell_type": "markdown",
   "id": "bcd8702b",
   "metadata": {},
   "source": [
    "### Set Up Model"
   ]
  },
  {
   "cell_type": "code",
   "execution_count": 1,
   "id": "a357246d",
   "metadata": {},
   "outputs": [
    {
     "data": {
      "text/plain": [
       "\"reanalysis/speedy_1layer_u_v_reanalysis.npz\""
      ]
     },
     "execution_count": 1,
     "metadata": {},
     "output_type": "execute_result"
    }
   ],
   "source": [
    "\n",
    "OUTPUT_FOLDER_PRE = \"C:/Users/Yan/OneDrive/Desktop/UNI/Honours/ml-for-da-yanny-honours-2025/\"\n",
    "LAYER_FOLDER = \"one_layer_up_to_training\"\n",
    "OG_REANALYSIS_NC = \"one_layer_primitive_wet/output.nc\"\n",
    "REANALYSIS_NPZ = \"reanalysis/speedy_1layer_u_v_reanalysis.npz\""
   ]
  },
  {
   "cell_type": "code",
   "execution_count": null,
   "id": "a57f9d7b",
   "metadata": {},
   "outputs": [],
   "source": [
    "using SpeedyWeather\n",
    "using NCDatasets\n",
    "\n",
    "spectral_grid = SpectralGrid(NF = Float64, trunc = 31, nlayers=1, Grid=FullGaussianGrid{Float64})\n",
    "output = NetCDFOutput(spectral_grid, path=OUTPUT_FOLDER_PRE*LAYER_FOLDER)\n",
    "\n",
    "@kwdef struct TempOutput <: SpeedyWeather.AbstractOutputVariable\n",
    "    name::String = \"temp\"\n",
    "    unit::String = \"K\"\n",
    "    long_name::String = \"temperature\"\n",
    "    dims_xyzt::NTuple{4, Bool} = (true, true, true, true)\n",
    "end\n",
    "\n",
    "@kwdef struct SurPresOutput <: SpeedyWeather.AbstractOutputVariable\n",
    "    name::String = \"spres\"\n",
    "    unit::String = \"Pa\"\n",
    "    long_name::String = \"surface pressure\"\n",
    "    dims_xyzt::NTuple{4, Bool} = (true, true, false, true)\n",
    "end\n",
    "\n",
    "@kwdef struct DivOutput <: SpeedyWeather.AbstractOutputVariable\n",
    "    name::String = \"div\"\n",
    "    unit::String = \"s^-1\"\n",
    "    long_name::String = \"divergence\"\n",
    "    dims_xyzt::NTuple{4, Bool} = (true, true, true, true)\n",
    "end\n",
    "\n",
    "@kwdef struct HumidOutput <: SpeedyWeather.AbstractOutputVariable\n",
    "    name::String = \"humid\"\n",
    "    unit::String = \"\"\n",
    "    long_name::String = \"specific humidity\"\n",
    "    dims_xyzt::NTuple{4, Bool} = (true, true, true, true)\n",
    "end\n",
    "\n",
    "@kwdef struct PrecipOutput <: SpeedyWeather.AbstractOutputVariable\n",
    "    name::String = \"precip\"\n",
    "    unit::String = \"\"\n",
    "    long_name::String = \"precipitation\"\n",
    "    dims_xyzt::NTuple{4, Bool} = (true, true, false, true)\n",
    "end\n",
    "#@kwdef struct PresOutput <: SpeedyWeather.AbstractOutputVariable\n",
    "   # name::String = \"log pres\"\n",
    "   # unit::String = \"Pa\"\n",
    "   # long_name::String = \"pressure\"\n",
    "   # dims_xyzt::NTuple{4, Bool} = (true, true, false, true)\n",
    "#end\n",
    "\n",
    "add!(output, TempOutput(), SurPresOutput(), DivOutput(), HumidOutput(), SpeedyWeather.PrecipitationOutput()...)\n",
    "SpeedyWeather.path(::TempOutput, simulation) =\n",
    "    simulation.diagnostic_variables.grid.temp_grid\n",
    "SpeedyWeather.path(::SurPresOutput, simulation) =\n",
    "    simulation.diagnostic_variables.grid.pres_grid\n",
    "SpeedyWeather.path(::DivOutput, simulation) =\n",
    "    simulation.diagnostic_variables.grid.div_grid\n",
    "SpeedyWeather.path(::HumidOutput, simulation) =\n",
    "    simulation.diagnostic_variables.grid.humid_grid\n",
    "#SpeedyWeather.path(::PresOutput, simulation) =\n",
    "    #simulation.diagnostic_variables.physics.cos_zenith\n",
    "\n",
    "time_stepping = Leapfrog(spectral_grid, Δt_at_T31=Minute(30))\n",
    "ocean = ConstantOceanClimatology(spectral_grid)\n",
    "planet = Earth(spectral_grid, seasonal_cycle = true, equinox = DateTime(2000, 3, 20))\n",
    "convection = SimplifiedBettsMiller(spectral_grid)\n",
    "large_scale_condensation = ImplicitCondensation(spectral_grid)\n",
    "temperature_relaxation = JablonowskiRelaxation(spectral_grid)\n",
    "model = PrimitiveWetModel(spectral_grid; output, time_stepping, temperature_relaxation, planet, ocean)\n",
    "orography = EarthOrography(spectral_grid)\n",
    "initialize!(orography, model) \n",
    "simulation = initialize!(model)"
   ]
  },
  {
   "cell_type": "code",
   "execution_count": null,
   "id": "1e6c8b4a",
   "metadata": {},
   "outputs": [],
   "source": [
    "initialize!(simulation.prognostic_variables, StartFromFile(path=LAYER_FOLDER), model)"
   ]
  },
  {
   "cell_type": "markdown",
   "id": "44a2e987",
   "metadata": {},
   "source": [
    "### Find Perturbation"
   ]
  },
  {
   "cell_type": "code",
   "execution_count": 3,
   "id": "d0984780",
   "metadata": {},
   "outputs": [
    {
     "name": "stdout",
     "output_type": "stream",
     "text": [
      "Is the start of the reanalysis 29221 time steps away from 2001-01-01 ? \n",
      "true\n",
      "Hence (finish_t - 500) same as (end - 500) in reanalysis.npz will still be within the testing dataset\n",
      "true"
     ]
    }
   ],
   "source": [
    "using NPZ\n",
    "using NCDatasets\n",
    "using CairoMakie\n",
    "\n",
    "data_npz = npzread(REANALYSIS_NPZ)\n",
    "ds = NCDataset(OUTPUT_FOLDER_PRE*OG_REANALYSIS_NC)\n",
    "\n",
    "#length of time\n",
    "start_t = 29221 # 2021-01-01 start \n",
    "finish_t = start_t + 365*4*15 #15 years\n",
    "all_time = ds[\"time\"][:]\n",
    "times = ds[\"time\"][start_t : finish_t]\n",
    "time_len = size(times)[1]\n",
    "lat_count = 48\n",
    "lon_count = 96\n",
    "year_steps = 1460\n",
    "\n",
    "print(\"Is the start of the reanalysis \", start_t, \" time steps away from 2001-01-01 ? \\n\")\n",
    "print(data_npz[\"temperature\"][1,:,:] == permutedims(ds[\"temp\"][:,:,1,start_t], (2,1)))\n",
    "\n",
    "print(\"\\nHence (finish_t - 500) same as (end - 500) in reanalysis.npz will still be within the testing dataset\\n\")\n",
    "print(data_npz[\"temperature\"][end-500,:,:] == permutedims(ds[\"temp\"][:,:,1,finish_t-500], (2,1)))"
   ]
  },
  {
   "cell_type": "code",
   "execution_count": 4,
   "id": "217ec79e",
   "metadata": {},
   "outputs": [
    {
     "data": {
      "text/plain": [
       "Field{Float64, 1, Vector{Float64}, FullGaussianGrid{SpeedyWeather.Architectures.CPU{KernelAbstractions.CPU}, Vector{UnitRange{Int64}}, Vector{Int64}}}"
      ]
     },
     "execution_count": 4,
     "metadata": {},
     "output_type": "execute_result"
    }
   ],
   "source": [
    "prog_variables = [\"temperature\", \"humidity\", \"u_wind\", \"v_wind\", \"surface_pressure\"]\n",
    "prog_data_pert = Dict{String, Any}()\n",
    "prog_pert_field = Dict{String, Any}()\n",
    "for key in prog_variables\n",
    "    prog_data_pert[key] = Float64.(data_npz[key][end - 500, :, :]) - Float64.(data_npz[key][end - 528, :, :])\n",
    "    prog_pert_field[key] = FullGaussianGrid(prog_data_pert[key], input_as=Matrix)\n",
    "end\n",
    "typeof(prog_pert_field[\"temperature\"])"
   ]
  },
  {
   "cell_type": "code",
   "execution_count": null,
   "id": "f6fdca07",
   "metadata": {},
   "outputs": [],
   "source": []
  },
  {
   "cell_type": "code",
   "execution_count": 15,
   "id": "13a003ad",
   "metadata": {},
   "outputs": [
    {
     "name": "stdout",
     "output_type": "stream",
     "text": [
      "1.161217491721248"
     ]
    },
    {
     "data": {
      "text/plain": [
       "4608-element, 48-ring FullGaussianField{Float64, 1} on Array on SpeedyWeather.Architectures.CPU{KernelAbstractions.CPU}:\n",
       "  0.005172974129021307\n",
       "  0.00512936744171262\n",
       "  0.0076450153543531855\n",
       "  0.009391623588408258\n",
       "  0.008886753729962286\n",
       "  0.00716523988126917\n",
       "  0.005810881525153046\n",
       "  0.006147844126365484\n",
       "  0.006173789148704065\n",
       "  0.0011093561260302753\n",
       " -0.008407694601436573\n",
       " -0.0150863509618537\n",
       " -0.015892228597319327\n",
       "  ⋮\n",
       "  0.004212512041440941\n",
       "  0.003916724692638365\n",
       "  0.003972208599149288\n",
       "  0.004013000422847411\n",
       "  0.0038254140653259305\n",
       "  0.004019432813383041\n",
       "  0.0038619739317129016\n",
       "  0.002970634442666014\n",
       "  0.0022139873800633716\n",
       "  0.001972114536223251\n",
       "  0.0018009538274961759\n",
       "  0.0018361532246987861"
      ]
     },
     "execution_count": 15,
     "metadata": {},
     "output_type": "execute_result"
    }
   ],
   "source": [
    "using LinearAlgebra\n",
    "S_fp64 = SpectralTransform(spectral_grid)\n",
    "prog_variables = [\"temperature\", \"humidity\", \"u_wind\", \"v_wind\", \"surface_pressure\"]\n",
    "pert_grid_to_spectral = Dict{String, Any}()\n",
    "a = Dict{String, Any}()\n",
    "b = Dict{String, Any}()\n",
    "back_to_grid = Dict{String,Any}()\n",
    "\n",
    "for key in prog_variables\n",
    "    pert_grid_to_spectral[key] = transform(prog_pert_field[key], S_fp64)\n",
    "    a[key] = transform(pert_grid_to_spectral[key], S_fp64)\n",
    "    b[key] = transform(a[key], S_fp64)\n",
    "    back_to_grid[key] = transform(b[key], S_fp64)\n",
    "end\n",
    "\n",
    "print(norm(prog_pert_field[\"temperature\"]))\n",
    "prog_pert_field[\"temperature\"]-back_to_grid[\"temperature\"]"
   ]
  },
  {
   "cell_type": "code",
   "execution_count": 6,
   "id": "66133dfc",
   "metadata": {},
   "outputs": [
    {
     "data": {
      "text/plain": [
       "true"
      ]
     },
     "execution_count": 6,
     "metadata": {},
     "output_type": "execute_result"
    }
   ],
   "source": [
    "rotate_map(x::Any) = permutedims(x, (1,2))\n",
    "\n",
    "fig = Figure(size=(800, 1000))\n",
    "ax1, hm1 = heatmap(fig[1,1], permutedims(rotate_map(prog_data_pert[\"temperature\"])), colormap=:viridis)\n",
    "ax1.yreversed=true\n",
    "Colorbar(fig[1,2], hm1)\n",
    "\n",
    "ax2, hm2 = heatmap(fig[2,1], permutedims(rotate_map(data_npz[\"temperature\"][end - 500, :, :])), colormap=:viridis)\n",
    "Colorbar(fig[2,2], hm2)\n",
    "ax2.yreversed=true\n",
    "# fig\n"
   ]
  },
  {
   "cell_type": "code",
   "execution_count": null,
   "id": "5dc3490e",
   "metadata": {},
   "outputs": [
    {
     "data": {
      "text/plain": [
       "560×1×2 LowerTriangularArray{ComplexF64, 3, Array{ComplexF64, 3}, Spectrum{SpeedyWeather.Architectures.CPU{KernelAbstractions.CPU}, Vector{UnitRange{Int64}}, Vector{Int64}}}\n",
       "[:, :, 1] =\n",
       "   -5.10702591327572e-15 + 0.0im\n",
       "  -2.3283064365386963e-9 + 0.0im\n",
       "   1.5459954738616943e-7 + 0.0im\n",
       "   -8.288770914077759e-8 + 0.0im\n",
       "    6.984919309616089e-8 + 0.0im\n",
       "   -3.594905138015747e-7 + 0.0im\n",
       "  -1.4435499906539917e-7 + 0.0im\n",
       "   -6.295740604400635e-7 + 0.0im\n",
       "   -5.327165126800537e-7 + 0.0im\n",
       "   -7.189810276031494e-7 + 0.0im\n",
       "   -3.650784492492676e-7 + 0.0im\n",
       "  -4.2282044887542725e-7 + 0.0im\n",
       "     -7.7858567237854e-7 + 0.0im\n",
       "                         ⋮\n",
       "  -1.0477378964424133e-9 - 9.74978320300579e-10im\n",
       "   1.7898855730891228e-9 + 1.6007106751203537e-9im\n",
       "  1.8917489796876907e-10 - 6.912159733474255e-11im\n",
       "   -1.076841726899147e-9 - 1.760781742632389e-9im\n",
       "   7.676135282963514e-10 - 2.08092387765646e-9im\n",
       " -2.9984903449076228e-12 + 1.2514647096395493e-9im\n",
       "  -6.275513442233205e-11 + 5.2523319027386606e-11im\n",
       "    9.15179043659009e-12 - 1.0695657692849636e-9im\n",
       "  -4.019966581836343e-10 + 1.862645149230957e-9im\n",
       "   1.318767317570746e-11 - 2.2851054382044822e-11im\n",
       "  3.4378899727016687e-10 + 9.058567229658365e-10im\n",
       " -1.1155520951433573e-12 + 6.338041202980094e-12im\n",
       "\n",
       "[:, :, 2] =\n",
       " 0.0 + 0.0im\n",
       " 0.0 + 0.0im\n",
       " 0.0 + 0.0im\n",
       " 0.0 + 0.0im\n",
       " 0.0 + 0.0im\n",
       " 0.0 + 0.0im\n",
       " 0.0 + 0.0im\n",
       " 0.0 + 0.0im\n",
       " 0.0 + 0.0im\n",
       " 0.0 + 0.0im\n",
       " 0.0 + 0.0im\n",
       " 0.0 + 0.0im\n",
       " 0.0 + 0.0im\n",
       "     ⋮\n",
       " 0.0 + 0.0im\n",
       " 0.0 + 0.0im\n",
       " 0.0 + 0.0im\n",
       " 0.0 + 0.0im\n",
       " 0.0 + 0.0im\n",
       " 0.0 + 0.0im\n",
       " 0.0 + 0.0im\n",
       " 0.0 + 0.0im\n",
       " 0.0 + 0.0im\n",
       " 0.0 + 0.0im\n",
       " 0.0 + 0.0im\n",
       " 0.0 + 0.0im"
      ]
     },
     "execution_count": 20,
     "metadata": {},
     "output_type": "execute_result"
    }
   ],
   "source": [
    "a = simulation.prognostic_variables.vor"
   ]
  },
  {
   "cell_type": "code",
   "execution_count": 29,
   "id": "f0eff19a",
   "metadata": {},
   "outputs": [],
   "source": [
    "set!(simulation.prognostic_variables, model.geometry; u = prog_pert_field[\"u_wind\"], add=true)"
   ]
  },
  {
   "cell_type": "code",
   "execution_count": 31,
   "id": "3cf89a44",
   "metadata": {},
   "outputs": [
    {
     "data": {
      "text/plain": [
       "560×1×2 LowerTriangularArray{ComplexF64, 3, Array{ComplexF64, 3}, Spectrum{SpeedyWeather.Architectures.CPU{KernelAbstractions.CPU}, Vector{UnitRange{Int64}}, Vector{Int64}}}\n",
       "[:, :, 1] =\n",
       " 0.0 + 0.0im\n",
       " 0.0 + 0.0im\n",
       " 0.0 + 0.0im\n",
       " 0.0 + 0.0im\n",
       " 0.0 + 0.0im\n",
       " 0.0 + 0.0im\n",
       " 0.0 + 0.0im\n",
       " 0.0 + 0.0im\n",
       " 0.0 + 0.0im\n",
       " 0.0 + 0.0im\n",
       " 0.0 + 0.0im\n",
       " 0.0 + 0.0im\n",
       " 0.0 + 0.0im\n",
       "     ⋮\n",
       " 0.0 + 0.0im\n",
       " 0.0 + 0.0im\n",
       " 0.0 + 0.0im\n",
       " 0.0 + 0.0im\n",
       " 0.0 + 0.0im\n",
       " 0.0 + 0.0im\n",
       " 0.0 + 0.0im\n",
       " 0.0 + 0.0im\n",
       " 0.0 + 0.0im\n",
       " 0.0 + 0.0im\n",
       " 0.0 + 0.0im\n",
       " 0.0 + 0.0im\n",
       "\n",
       "[:, :, 2] =\n",
       " 0.0 + 0.0im\n",
       " 0.0 + 0.0im\n",
       " 0.0 + 0.0im\n",
       " 0.0 + 0.0im\n",
       " 0.0 + 0.0im\n",
       " 0.0 + 0.0im\n",
       " 0.0 + 0.0im\n",
       " 0.0 + 0.0im\n",
       " 0.0 + 0.0im\n",
       " 0.0 + 0.0im\n",
       " 0.0 + 0.0im\n",
       " 0.0 + 0.0im\n",
       " 0.0 + 0.0im\n",
       "     ⋮\n",
       " 0.0 + 0.0im\n",
       " 0.0 + 0.0im\n",
       " 0.0 + 0.0im\n",
       " 0.0 + 0.0im\n",
       " 0.0 + 0.0im\n",
       " 0.0 + 0.0im\n",
       " 0.0 + 0.0im\n",
       " 0.0 + 0.0im\n",
       " 0.0 + 0.0im\n",
       " 0.0 + 0.0im\n",
       " 0.0 + 0.0im\n",
       " 0.0 + 0.0im"
      ]
     },
     "execution_count": 31,
     "metadata": {},
     "output_type": "execute_result"
    }
   ],
   "source": [
    "a - simulation.prognostic_variables.vor"
   ]
  },
  {
   "cell_type": "code",
   "execution_count": null,
   "id": "c1fb5b79",
   "metadata": {},
   "outputs": [],
   "source": []
  }
 ],
 "metadata": {
  "kernelspec": {
   "display_name": "Julia 1.11.4",
   "language": "julia",
   "name": "julia-1.11"
  },
  "language_info": {
   "file_extension": ".jl",
   "mimetype": "application/julia",
   "name": "julia",
   "version": "1.11.4"
  }
 },
 "nbformat": 4,
 "nbformat_minor": 5
}
