{
 "cells": [
  {
   "cell_type": "code",
   "execution_count": 11,
   "id": "553c445b",
   "metadata": {},
   "outputs": [
    {
     "name": "stdout",
     "output_type": "stream",
     "text": [
      "\u001b[32morography\u001b[39m (96 × 48)\n",
      "  Datatype:    \u001b[0m\u001b[1mFloat32\u001b[22m (Float32)\n",
      "  Dimensions:  lon × lat\n",
      "  Attributes:\n",
      "   units                = \u001b[36mm\u001b[39m\n",
      "   long_name            = \u001b[36mEarth Orography\u001b[39m\n",
      "   comments             = \u001b[36mOrography used in SpeedyWeather reanalysis run at T31, use as constant\u001b[39m\n"
     ]
    },
    {
     "data": {
      "text/plain": [
       "closed Dataset"
      ]
     },
     "metadata": {},
     "output_type": "display_data"
    }
   ],
   "source": [
    "# Saving Orography\n",
    "using NCDatasets \n",
    "using DataStructures: OrderedDict\n",
    "using SpeedyWeather\n",
    "\n",
    "oro_ds = NCDataset(\"orography_T31.nc\",\"c\")\n",
    "defDim(oro_ds,\"lon\",96)\n",
    "defDim(oro_ds,\"lat\",48)\n",
    "\n",
    "# Define the variables temperature with the attribute units\n",
    "v = defVar(oro_ds,\"orography\", Float32,(\"lon\",\"lat\"), attrib = OrderedDict(\n",
    "    \"units\" => \"m\",\n",
    "    \"long_name\" => \"Earth Orography\"\n",
    "))\n",
    "\n",
    "# add additional attributes\n",
    "v.attrib[\"comments\"] = \"Orography used in SpeedyWeather reanalysis run at T31, use as constant\"\n",
    "\n",
    "spectral_grid = SpectralGrid(trunc = 31, nlayers=1, Grid=FullGaussianGrid)\n",
    "orography = EarthOrography(spectral_grid)\n",
    "\n",
    "# write a the complete data set\n",
    "v[:,:] = orography.orography;\n",
    "print(v)\n",
    "\n",
    "close(oro_ds)\n"
   ]
  }
 ],
 "metadata": {
  "kernelspec": {
   "display_name": "Julia 1.11.5",
   "language": "julia",
   "name": "julia-1.11"
  },
  "language_info": {
   "file_extension": ".jl",
   "mimetype": "application/julia",
   "name": "julia",
   "version": "1.11.5"
  }
 },
 "nbformat": 4,
 "nbformat_minor": 5
}
