{
 "cells": [
  {
   "cell_type": "code",
   "execution_count": 15,
   "id": "6a3fcab8",
   "metadata": {},
   "outputs": [
    {
     "data": {
      "text/plain": [
       "21600 seconds"
      ]
     },
     "metadata": {},
     "output_type": "display_data"
    }
   ],
   "source": [
    "# Add variable outputs, assign grid\n",
    "using SpeedyWeather\n",
    "using CairoMakie\n",
    "\n",
    "#spectral_grid = SpectralGrid(trunc=31, nlayers=8)\n",
    "spectral_grid = SpectralGrid(trunc = 31, nlayers=8, Grid=FullGaussianGrid)\n",
    "output = NetCDFOutput(spectral_grid, path=\"F:/SpeedyWeatherRuns/eight_layer\")\n",
    "\n",
    "@kwdef struct TempOutput <: SpeedyWeather.AbstractOutputVariable\n",
    "    name::String = \"temp\"\n",
    "    unit::String = \"K\"\n",
    "    long_name::String = \"temperature\"\n",
    "    dims_xyzt::NTuple{4, Bool} = (true, true, true, true)\n",
    "end\n",
    "\n",
    "@kwdef struct SurPresOutput <: SpeedyWeather.AbstractOutputVariable\n",
    "    name::String = \"spres\"\n",
    "    unit::String = \"Pa\"\n",
    "    long_name::String = \"surface pressure\"\n",
    "    dims_xyzt::NTuple{4, Bool} = (true, true, false, true)\n",
    "end\n",
    "\n",
    "@kwdef struct DivOutput <: SpeedyWeather.AbstractOutputVariable\n",
    "    name::String = \"div\"\n",
    "    unit::String = \"s^-1\"\n",
    "    long_name::String = \"divergence\"\n",
    "    dims_xyzt::NTuple{4, Bool} = (true, true, true, true)\n",
    "end\n",
    "\n",
    "@kwdef struct HumidOutput <: SpeedyWeather.AbstractOutputVariable\n",
    "    name::String = \"humid\"\n",
    "    unit::String = \"\"\n",
    "    long_name::String = \"specific humidity\"\n",
    "    dims_xyzt::NTuple{4, Bool} = (true, true, true, true)\n",
    "end\n",
    "\n",
    "@kwdef struct PrecipOutput <: SpeedyWeather.AbstractOutputVariable\n",
    "    name::String = \"precip\"\n",
    "    unit::String = \"\"\n",
    "    long_name::String = \"precipitation\"\n",
    "    dims_xyzt::NTuple{4, Bool} = (true, true, false, true)\n",
    "end\n",
    "#@kwdef struct PresOutput <: SpeedyWeather.AbstractOutputVariable\n",
    "   # name::String = \"log pres\"\n",
    "   # unit::String = \"Pa\"\n",
    "   # long_name::String = \"pressure\"\n",
    "   # dims_xyzt::NTuple{4, Bool} = (true, true, false, true)\n",
    "#end\n",
    "\n",
    "\n",
    "add!(output, TempOutput(), SurPresOutput(), DivOutput(), HumidOutput(), SpeedyWeather.PrecipitationOutput()...)\n",
    "SpeedyWeather.path(::TempOutput, simulation) =\n",
    "    simulation.diagnostic_variables.grid.temp_grid\n",
    "SpeedyWeather.path(::SurPresOutput, simulation) =\n",
    "    simulation.diagnostic_variables.grid.pres_grid\n",
    "SpeedyWeather.path(::DivOutput, simulation) =\n",
    "    simulation.diagnostic_variables.grid.div_grid\n",
    "SpeedyWeather.path(::HumidOutput, simulation) =\n",
    "    simulation.diagnostic_variables.grid.humid_grid\n",
    "#SpeedyWeather.path(::PresOutput, simulation) =\n",
    "    #simulation.diagnostic_variables.physics.cos_zenith\n",
    "\n",
    "time_stepping = Leapfrog(spectral_grid, Δt_at_T31=Minute(30))\n",
    "ocean = ConstantOceanClimatology(spectral_grid)\n",
    "planet = Earth(spectral_grid, seasonal_cycle = true, equinox = DateTime(2000, 3, 20))\n",
    "convection = SimplifiedBettsMiller(spectral_grid)\n",
    "large_scale_condensation = ImplicitCondensation(spectral_grid)\n",
    "temperature_relaxation = JablonowskiRelaxation(spectral_grid)\n",
    "model = PrimitiveWetModel(spectral_grid; output, time_stepping, temperature_relaxation, planet, ocean)\n",
    "orography = EarthOrography(spectral_grid)\n",
    "initialize!(orography, model) \n",
    "simulation = initialize!(model,time=DateTime(2001,1,1))\n",
    "# Output state vector every 6 hours = 21600 secs\n",
    "simulation.model.output.output_dt = Second(21600)"
   ]
  },
  {
   "cell_type": "code",
   "execution_count": 21,
   "id": "553c445b",
   "metadata": {},
   "outputs": [
    {
     "name": "stdout",
     "output_type": "stream",
     "text": [
      "\u001b[32morography\u001b[39m (96 × 48)\n",
      "  Datatype:    \u001b[0m\u001b[1mFloat32\u001b[22m (Float32)\n",
      "  Dimensions:  lon × lat\n",
      "  Attributes:\n",
      "   units                = \u001b[36mm\u001b[39m\n",
      "   long_name            = \u001b[36mEarth Orography\u001b[39m\n",
      "   comments             = \u001b[36mOrography used in SpeedyWeather reanalysis run at T31, use as constant\u001b[39m\n"
     ]
    },
    {
     "data": {
      "text/plain": [
       "closed Dataset"
      ]
     },
     "metadata": {},
     "output_type": "display_data"
    }
   ],
   "source": [
    "# Saving Orography\n",
    "using NCDatasets \n",
    "using DataStructures: OrderedDict\n",
    "using SpeedyWeather\n",
    "\n",
    "oro_ds = NCDataset(\"orography_T31.nc\",\"c\")\n",
    "defDim(oro_ds,\"lon\",96)\n",
    "defDim(oro_ds,\"lat\",48)\n",
    "\n",
    "# Define the variables temperature with the attribute units\n",
    "v = defVar(oro_ds,\"orography\", Float32,(\"lon\",\"lat\"), attrib = OrderedDict(\n",
    "    \"units\" => \"m\",\n",
    "    \"long_name\" => \"Earth Orography\"\n",
    "))\n",
    "\n",
    "# add additional attributes\n",
    "v.attrib[\"comments\"] = \"Orography used in SpeedyWeather reanalysis run at T31, use as constant\"\n",
    "\n",
    "# write a the complete data set\n",
    "v[:,:] = orography.orography;\n",
    "print(v)\n",
    "\n",
    "close(oro_ds)\n"
   ]
  }
 ],
 "metadata": {
  "kernelspec": {
   "display_name": "Julia 1.11.5",
   "language": "julia",
   "name": "julia-1.11"
  },
  "language_info": {
   "file_extension": ".jl",
   "mimetype": "application/julia",
   "name": "julia",
   "version": "1.11.5"
  }
 },
 "nbformat": 4,
 "nbformat_minor": 5
}
